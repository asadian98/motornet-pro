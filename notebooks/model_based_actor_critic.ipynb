{
  "cells": [
    {
      "cell_type": "markdown",
      "metadata": {
        "id": "view-in-github",
        "colab_type": "text"
      },
      "source": [
        "<a href=\"https://colab.research.google.com/github/asadian98/motornet-pro/blob/main/notebooks/model_based_actor_critic.ipynb\" target=\"_parent\"><img src=\"https://colab.research.google.com/assets/colab-badge.svg\" alt=\"Open In Colab\"/></a>"
      ]
    },
    {
      "cell_type": "markdown",
      "metadata": {
        "id": "7hPkAoHyUYmT"
      },
      "source": [
        "# MotorNet-Pro: Model-Free Baseline (SAC) for Model-Based Actor-Critic Algorithms"
      ]
    },
    {
      "cell_type": "code",
      "execution_count": null,
      "metadata": {
        "colab": {
          "base_uri": "https://localhost:8080/"
        },
        "collapsed": true,
        "id": "DVqPILCLEgAi",
        "outputId": "764844db-6866-4e81-a771-79d72c8b068f"
      },
      "outputs": [
        {
          "name": "stdout",
          "output_type": "stream",
          "text": [
            "Note: you may need to restart the kernel to use updated packages.\n",
            "Note: you may need to restart the kernel to use updated packages.\n"
          ]
        }
      ],
      "source": [
        "%pip install tf-agents[reverb] --quiet\n",
        "%pip install motornet --quiet"
      ]
    },
    {
      "cell_type": "code",
      "execution_count": null,
      "metadata": {
        "id": "AJVh2rIJUd_B"
      },
      "outputs": [],
      "source": [
        "from __future__ import absolute_import\n",
        "from __future__ import division\n",
        "from __future__ import print_function\n",
        "\n",
        "import abc\n",
        "import tensorflow as tf\n",
        "import numpy as np\n",
        "import motornet as mn\n",
        "import base64\n",
        "import imageio\n",
        "import IPython\n",
        "import matplotlib.pyplot as plt\n",
        "import os\n",
        "import reverb\n",
        "import tempfile\n",
        "import PIL.Image\n",
        "import tf_agents.specs.array_spec as array_spec\n",
        "import tf_agents\n",
        "\n",
        "from tf_agents.environments import py_environment\n",
        "from tf_agents.environments import BatchedPyEnvironment\n",
        "from tf_agents.environments import tf_environment\n",
        "from tf_agents.environments import tf_py_environment\n",
        "from tf_agents.environments import utils\n",
        "from tf_agents.specs import array_spec\n",
        "from tf_agents.environments import wrappers\n",
        "from tf_agents.environments import suite_gym\n",
        "from tf_agents.trajectories import time_step as ts\n",
        "from tf_agents.agents.ddpg import critic_network\n",
        "from tf_agents.agents.sac import sac_agent\n",
        "from tf_agents.agents.sac import tanh_normal_projection_network\n",
        "from tf_agents.metrics import py_metrics\n",
        "from tf_agents.networks import actor_distribution_network\n",
        "from tf_agents.policies import greedy_policy\n",
        "from tf_agents.policies import py_tf_eager_policy\n",
        "from tf_agents.policies import random_py_policy\n",
        "from tf_agents.replay_buffers import reverb_replay_buffer\n",
        "from tf_agents.replay_buffers import reverb_utils\n",
        "from tf_agents.train import actor\n",
        "from tf_agents.train import learner\n",
        "from tf_agents.train import triggers\n",
        "from tf_agents.train.utils import spec_utils\n",
        "from tf_agents.train.utils import strategy_utils\n",
        "from tf_agents.train.utils import train_utils\n",
        "from tensorflow.keras.layers import Layer, GRUCell, Dense, Lambda\n",
        "\n",
        "from tqdm import tqdm\n",
        "\n",
        "tempdir = tempfile.gettempdir()"
      ]
    },
    {
      "cell_type": "markdown",
      "metadata": {
        "id": "XKWejKq4Djwg"
      },
      "source": [
        "## Hyperparameters"
      ]
    },
    {
      "cell_type": "code",
      "execution_count": null,
      "metadata": {
        "cellView": "code",
        "id": "N0hdmJR7DhXz"
      },
      "outputs": [],
      "source": [
        "env_name = \"Arm210\" # @param {type:\"string\"}\n",
        "\n",
        "num_iterations = 10000 # @param {type:\"integer\"}\n",
        "\n",
        "initial_collect_steps = 1000 # @param {type:\"integer\"}\n",
        "collect_steps_per_iteration = 1 # @param {type:\"integer\"}\n",
        "replay_buffer_capacity = int(1e8) # @param {type:\"integer\"}\n",
        "\n",
        "batch_size = 1000 # @param {type:\"integer\"}\n",
        "\n",
        "critic_learning_rate = 3e-4 # @param {type:\"number\"}\n",
        "actor_learning_rate = 3e-4 # @param {type:\"number\"}\n",
        "alpha_learning_rate = 3e-4 # @param {type:\"number\"}\n",
        "target_update_tau = 0.005 # @param {type:\"number\"}\n",
        "target_update_period = 1 # @param {type:\"number\"}\n",
        "gamma = 0.99 # @param {type:\"number\"}\n",
        "reward_scale_factor = 1.0 # @param {type:\"number\"}\n",
        "\n",
        "actor_fc_layer_params = (256, 256)\n",
        "critic_joint_fc_layer_params = (256, 256)\n",
        "\n",
        "log_interval = 10 # @param {type:\"integer\"}\n",
        "\n",
        "num_eval_episodes = 1 # @param {type:\"integer\"}\n",
        "eval_interval = 1 # @param {type:\"integer\"}\n",
        "\n",
        "policy_save_interval = 10 # @param {type:\"integer\"}"
      ]
    },
    {
      "cell_type": "markdown",
      "metadata": {
        "id": "tS0_xtK-DLTs"
      },
      "source": [
        "## Environment\n",
        "\n"
      ]
    },
    {
      "cell_type": "markdown",
      "metadata": {
        "id": "CFSPnUUXQipV"
      },
      "source": [
        "Lets first build the MotorNet plant. Notice that for us, the (MotorNet) Task and Plant would be our environment."
      ]
    },
    {
      "cell_type": "code",
      "execution_count": null,
      "metadata": {
        "colab": {
          "base_uri": "https://localhost:8080/"
        },
        "id": "xBWDcSM0Qhqt",
        "outputId": "23bc1f2c-ecc2-4d46-d0ff-8aa7b71ee95d"
      },
      "outputs": [
        {
          "name": "stdout",
          "output_type": "stream",
          "text": [
            "MUSCLE NAME: pectoralis\n",
            "-----------------------\n",
            "n_fixation_points:  2\n",
            "fixation body:  [0, 1]\n",
            "coordinates:  [[-0.15000000596046448, 0.029999999329447746], [0.09399999678134918, 0.017000000923871994]]\n",
            "max_isometric_force:  838\n",
            "tendon_length:  0.039\n",
            "optimal_muscle_length:  0.134\n",
            "normalized_slack_muscle_length:  1.48\n",
            "\n",
            "\n",
            "MUSCLE NAME: clavicular deltoid\n",
            "-------------------------------\n",
            "n_fixation_points:  2\n",
            "fixation body:  [0, 1]\n",
            "coordinates:  [[-0.03400000184774399, 0.02199999988079071], [0.14399999380111694, 0.009999999776482582]]\n",
            "max_isometric_force:  680\n",
            "tendon_length:  0.039\n",
            "optimal_muscle_length:  0.104\n",
            "normalized_slack_muscle_length:  1.4\n",
            "\n",
            "\n",
            "MUSCLE NAME: deltoid\n",
            "--------------------\n",
            "n_fixation_points:  3\n",
            "fixation body:  [0, 0, 1]\n",
            "coordinates:  [[0.14000000059604645, 0.0], [0.05000000074505806, -0.0], [0.15299999713897705, 0.0]]\n",
            "max_isometric_force:  1207\n",
            "tendon_length:  0.066\n",
            "optimal_muscle_length:  0.14\n",
            "normalized_slack_muscle_length:  1.52\n",
            "\n",
            "\n",
            "MUSCLE NAME: teres major\n",
            "------------------------\n",
            "n_fixation_points:  3\n",
            "fixation body:  [0, 0, 1]\n",
            "coordinates:  [[0.10000000149011612, 0.0], [0.05000000074505806, -0.029999999329447746], [0.06199999898672104, 0.004000000189989805]]\n",
            "max_isometric_force:  1207\n",
            "tendon_length:  0.066\n",
            "optimal_muscle_length:  0.068\n",
            "normalized_slack_muscle_length:  1.65\n",
            "\n",
            "\n",
            "MUSCLE NAME: brachioradialis\n",
            "----------------------------\n",
            "n_fixation_points:  2\n",
            "fixation body:  [1, 2]\n",
            "coordinates:  [[0.23000000417232513, 0.0010000000474974513], [0.23100000619888306, 0.009999999776482582]]\n",
            "max_isometric_force:  1422\n",
            "tendon_length:  0.172\n",
            "optimal_muscle_length:  0.092\n",
            "normalized_slack_muscle_length:  1.43\n",
            "\n",
            "\n",
            "MUSCLE NAME: tricepslat\n",
            "-----------------------\n",
            "n_fixation_points:  3\n",
            "fixation body:  [1, 1, 2]\n",
            "coordinates:  [[0.029999999329447746, 0.0], [0.1379999965429306, -0.01899999938905239], [-0.03999999910593033, -0.017000000923871994]]\n",
            "max_isometric_force:  1549\n",
            "tendon_length:  0.187\n",
            "optimal_muscle_length:  0.093\n",
            "normalized_slack_muscle_length:  1.45\n",
            "\n",
            "\n",
            "MUSCLE NAME: biceps\n",
            "-------------------\n",
            "n_fixation_points:  2\n",
            "fixation body:  [0, 2]\n",
            "coordinates:  [[-0.052000001072883606, 0.032999999821186066], [0.04399999976158142, 0.0010000000474974513]]\n",
            "max_isometric_force:  414\n",
            "tendon_length:  0.204\n",
            "optimal_muscle_length:  0.137\n",
            "normalized_slack_muscle_length:  1.5\n",
            "\n",
            "\n",
            "MUSCLE NAME: tricepslong\n",
            "------------------------\n",
            "n_fixation_points:  2\n",
            "fixation body:  [0, 2]\n",
            "coordinates:  [[0.019999999552965164, -0.02800000086426735], [-0.03999999910593033, -0.017000000923871994]]\n",
            "max_isometric_force:  603\n",
            "tendon_length:  0.217\n",
            "optimal_muscle_length:  0.127\n",
            "normalized_slack_muscle_length:  1.4\n",
            "\n",
            "\n",
            "MUSCLE NAME: anconeus\n",
            "---------------------\n",
            "n_fixation_points:  2\n",
            "fixation body:  [1, 2]\n",
            "coordinates:  [[0.3059999942779541, -0.010999999940395355], [0.003000000026077032, -0.02500000037252903]]\n",
            "max_isometric_force:  300\n",
            "tendon_length:  0.01\n",
            "optimal_muscle_length:  0.015\n",
            "normalized_slack_muscle_length:  1.72\n",
            "\n",
            "\n",
            "MUSCLE NAME: prot\n",
            "-----------------\n",
            "n_fixation_points:  2\n",
            "fixation body:  [1, 2]\n",
            "coordinates:  [[0.2770000100135803, 0.0], [0.07500000298023224, 0.019999999552965164]]\n",
            "max_isometric_force:  700\n",
            "tendon_length:  0.02\n",
            "optimal_muscle_length:  0.058\n",
            "normalized_slack_muscle_length:  1.48\n",
            "\n",
            "\n"
          ]
        }
      ],
      "source": [
        "arm210 = mn.plants.Plant(\n",
        "  skeleton=mn.plants.skeletons.TwoDofArm(),\n",
        "  muscle_type=mn.plants.muscles.CompliantTendonHillMuscle(),\n",
        "  proprioceptive_delay=0.02,\n",
        "  visual_delay=0.07,\n",
        "  timestep=0.02,\n",
        "  integration_method='rk4',\n",
        "  excitation_noise_sd=0.001,\n",
        "  pos_lower_bound=None,\n",
        "  pos_upper_bound=None,\n",
        "  vel_lower_bound=None,\n",
        "  vel_upper_bound=None, \n",
        "  name='Arm210'\n",
        ")\n",
        "\n",
        "arm210.add_muscle(\n",
        "  path_fixation_body=[0., 1.],\n",
        "  path_coordinates=[[-.15, .03], [.094, 0.017]],\n",
        "  name='pectoralis',\n",
        "  max_isometric_force=838,\n",
        "  tendon_length=.039,\n",
        "  optimal_muscle_length=.134,\n",
        "  normalized_slack_muscle_length=1.48)\n",
        "\n",
        "arm210.add_muscle(\n",
        "  path_fixation_body=[0., 1.],\n",
        "  path_coordinates=[[-.034, .022], [.144, 0.01]],\n",
        "  name='clavicular deltoid',\n",
        "  max_isometric_force=680,\n",
        "  tendon_length=.039,\n",
        "  optimal_muscle_length=.104,\n",
        "  normalized_slack_muscle_length=1.4)\n",
        "\n",
        "arm210.add_muscle(\n",
        "  path_fixation_body=[0., 0., 1.],\n",
        "  path_coordinates=[[.14, 0.], [.05, -.00], [0.153, 0.]],\n",
        "  name='deltoid',\n",
        "  max_isometric_force=1207,\n",
        "  tendon_length=.066,\n",
        "  optimal_muscle_length=.140,\n",
        "  normalized_slack_muscle_length=1.52)\n",
        "\n",
        "arm210.add_muscle(\n",
        "  path_fixation_body=[0., 0., 1.],\n",
        "  path_coordinates=[[.1, 0.], [.05, -.03], [0.062, 0.004]],\n",
        "  name='teres major',\n",
        "  max_isometric_force=1207,\n",
        "  tendon_length=.066,\n",
        "  optimal_muscle_length=.068,\n",
        "  normalized_slack_muscle_length=1.65)\n",
        "\n",
        "arm210.add_muscle(\n",
        "  path_fixation_body=[1., 2.],\n",
        "  path_coordinates=[[0.23, 0.001], [0.231, 0.01]],\n",
        "  name='brachioradialis',\n",
        "  max_isometric_force=1422,\n",
        "  tendon_length=.172,\n",
        "  optimal_muscle_length=.092,\n",
        "  normalized_slack_muscle_length=1.43)\n",
        "\n",
        "arm210.add_muscle(\n",
        "  path_fixation_body=[1., 1., 2.],\n",
        "  path_coordinates=[[0.03, 0.], [0.138, -0.019], [-0.04, -0.017]],\n",
        "  name='tricepslat',\n",
        "  max_isometric_force=1549,\n",
        "  tendon_length=.187,\n",
        "  optimal_muscle_length=.093,\n",
        "  normalized_slack_muscle_length=1.45)\n",
        "\n",
        "arm210.add_muscle(\n",
        "  path_fixation_body=[0., 2.],\n",
        "  path_coordinates=[[-0.052, 0.033], [0.044, 0.001]],\n",
        "  name='biceps',\n",
        "  max_isometric_force=414,\n",
        "  tendon_length=.204,\n",
        "  optimal_muscle_length=.137,\n",
        "  normalized_slack_muscle_length=1.5)\n",
        "\n",
        "arm210.add_muscle(\n",
        "  path_fixation_body=[0., 2.],\n",
        "  path_coordinates=[[0.02, -0.028], [-0.04, -0.017]],\n",
        "  name='tricepslong',\n",
        "  max_isometric_force=603,\n",
        "  tendon_length=0.217,\n",
        "  optimal_muscle_length=0.127,\n",
        "  normalized_slack_muscle_length=1.4)\n",
        "\n",
        "arm210.add_muscle(\n",
        "  path_fixation_body=[1., 2.],\n",
        "  path_coordinates=[[0.306, -0.011], [0.003, -0.025]],\n",
        "  name='anconeus',\n",
        "  max_isometric_force=300,\n",
        "  tendon_length=0.01,\n",
        "  optimal_muscle_length=0.015,\n",
        "  normalized_slack_muscle_length=1.72)\n",
        "\n",
        "arm210.add_muscle(\n",
        "  path_fixation_body=[1., 2.],\n",
        "  path_coordinates=[[0.277, 0.], [0.075, 0.02]],\n",
        "  name='prot',\n",
        "  max_isometric_force=700,\n",
        "  tendon_length=0.02,\n",
        "  optimal_muscle_length=0.058,\n",
        "  normalized_slack_muscle_length=1.48)\n",
        "\n",
        "arm210.print_muscle_wrappings()"
      ]
    },
    {
      "cell_type": "code",
      "execution_count": null,
      "metadata": {
        "id": "gWmdztk0UlvI"
      },
      "outputs": [],
      "source": [
        "class Arm210(py_environment.PyEnvironment):\n",
        "    def __init__(self, plant, proprioceptive_noise_sd:float=.01, visual_noise_sd:float=.01,\n",
        "                 excitation_noise_sd:float=1e-3, n_ministeps:int=1, num_episodes:int=1, \n",
        "                 n_timesteps:int=50, batch_size:int=1, endpoint_load=None, joint_load=None, \n",
        "                 init_joint_state=None, discount:float=0.95, mvel_weight:float=0.1, \n",
        "                 mact_weight:float=1., jpos_weight:float=1., deriv_weight:float=1.):\n",
        "      \n",
        "        self._action_spec = array_spec.BoundedArraySpec(shape=(plant.n_muscles,),\n",
        "                                                        dtype=np.float32,\n",
        "                                                        minimum=0.01, maximum=1.,\n",
        "                                                        name='action')\n",
        "        \n",
        "        self._observation_spec = array_spec.ArraySpec(shape=(34,),\n",
        "                                                        dtype=np.float32, # todo: figure out\n",
        "                                                        name='observation')\n",
        "        self._time_step_spec = ts.time_step_spec(self._observation_spec)\n",
        "        # array_spec.ArraySpec()\n",
        "        self.discount = discount\n",
        "        self._episode_ended = False\n",
        "\n",
        "        # set noise levels\n",
        "        self.proprioceptive_noise_sd = proprioceptive_noise_sd\n",
        "        self.visual_noise_sd = visual_noise_sd\n",
        "        \n",
        "        # plant states\n",
        "        self.proprioceptive_delay = plant.proprioceptive_delay\n",
        "        self.visual_delay = plant.visual_delay\n",
        "        self.n_muscles = plant.n_muscles\n",
        "        self.state_size = [\n",
        "            tf.TensorShape([plant.output_dim]),\n",
        "            tf.TensorShape([plant.output_dim]),\n",
        "            tf.TensorShape([plant.muscle_state_dim, self.n_muscles]),\n",
        "            tf.TensorShape([plant.geometry_state_dim, self.n_muscles]),\n",
        "            tf.TensorShape([self.n_muscles * 2, self.proprioceptive_delay]),  # muscle length & velocity\n",
        "            tf.TensorShape([plant.space_dim, self.visual_delay]),\n",
        "            tf.TensorShape([plant.space_dim, self.visual_delay]),\n",
        "            tf.TensorShape([batch_size, self.n_muscles])\n",
        "        ]\n",
        "        self.initial_state_names = [\n",
        "            'joint0',\n",
        "            'cartesian0',\n",
        "            'muscle0',\n",
        "            'geometry0',\n",
        "            'proprio_feedback0',\n",
        "            'visual_feedback0',\n",
        "            'target feedback0',\n",
        "            'muscle_excitation0'\n",
        "        ]\n",
        "        self.output_names = [\n",
        "            'joint position',\n",
        "            'cartesian position',\n",
        "            'muscle state',\n",
        "            'geometry state',\n",
        "            'proprioceptive feedback',\n",
        "            'visual feedback',\n",
        "            'target feedback',\n",
        "            'muscle_excitation'\n",
        "        ]\n",
        "\n",
        "        # create attributes\n",
        "        self.n_ministeps = int(np.maximum(n_ministeps, 1))\n",
        "        self.plant = plant\n",
        "        self.n_timesteps = n_timesteps\n",
        "        self.curr_timestep = 0 # to be incremented at the end of each _step call\n",
        "        self.batch_sz = batch_size\n",
        "\n",
        "        # store reward weights\n",
        "        self.jpos_weight = jpos_weight\n",
        "        self.mvel_weight = mvel_weight\n",
        "        self.mact_weight = mact_weight\n",
        "        self.deriv_weight = deriv_weight\n",
        "\n",
        "        # todo: in the future, we can constrain goal/init states to usual arm workspace (not weird, unnatural, impossible angles)\n",
        "        self.init_joint_state = init_joint_state # if None, then will be assigned randomly\n",
        "        self.goal_joint_states = self.plant.draw_random_uniform_states(batch_size=self.batch_sz)\n",
        "        self.goal_states = self.plant.joint2cartesian(self.goal_joint_states)\n",
        "        self.targets = self.plant.state2target(state=self.goal_states, n_timesteps=n_timesteps).numpy()\n",
        "        self.goal_joint_states, _ = tf.split(self.goal_joint_states, 2, axis=-1)\n",
        "        if endpoint_load is None: # note: we are bypassing recompute inputs (meaning state-dependent loads)\n",
        "            self.endpoint_load = tf.constant(0., shape=(1, self.plant.space_dim))\n",
        "        else:\n",
        "            self.endpoint_load = endpoint_load\n",
        "        if joint_load is None: # note: we are bypassing recompute inputs (meaning state-dependent loads)\n",
        "            self.joint_load = tf.constant(0., shape=(1, self.plant.dof))\n",
        "        else: \n",
        "            self.joint_load = joint_load\n",
        "\n",
        "        self.inputs = {\"inputs\": self.targets[:, :, :self.plant.space_dim], \"endpoint_load\": self.endpoint_load, \"joint_load\": self.joint_load}\n",
        "        initial_states = self.get_base_initial_state(batch_size=self.batch_sz, joint_state=self.init_joint_state)\n",
        "        self.states = initial_states\n",
        "        self.feedback_state = self.unpack_feedback_states(self.states)\n",
        "\n",
        "    # create Lambda-wrapped functions (to prevent memory leaks)\n",
        "    unpack_plant_states = Lambda(lambda x: x[:4], name=\"unpack_plant_states\")\n",
        "    unpack_feedback_states = Lambda(lambda x: x[4:8], name=\"unpack_feedback_states\")\n",
        "    get_feedback_backlog = Lambda(lambda x: tf.slice(x, [0, 0, 1], [-1, -1, -1]), name=\"get_feedback_backlog\")\n",
        "    get_feedback_current = Lambda(lambda x: x[:, :, 0], name=\"get_feedback_current\")\n",
        "    lambda_cat = Lambda(lambda x: tf.concat(x, axis=-1), name=\"lambda_cat\")\n",
        "    lambda_cat2 = Lambda(lambda x: tf.concat(x, axis=2), name=\"lambda_cat2\")\n",
        "    add_noise = Lambda(lambda x: x[0] + tf.random.normal(tf.shape(x[0]), stddev=x[1]), name=\"add_noise\")\n",
        "    tile_feedback = Lambda(lambda x: tf.tile(x[0][:, :, tf.newaxis], [1, 1, x[1]]), name=\"tile_feedback\")\n",
        "\n",
        "    def get_base_initial_state(self, joint_state=None, batch_size:int=1, dtype=tf.float32):\n",
        "        \"\"\"Creates the base initial states for the first timestep of the network training procedure,\n",
        "        in the order listed below:\n",
        "            - joint state\n",
        "            - cartesian state\n",
        "            - muscle state\n",
        "            - geometry state\n",
        "            - proprioception feedback array\n",
        "            - visual feedback array\n",
        "            - target state\n",
        "            - muscle excitation cmd\n",
        "\n",
        "        This method should be called in the :meth:`get_initial_state` method to provide a base for the output of that\n",
        "        method.\n",
        "        Args:\n",
        "            inputs: The joint state from which the other state values are inferred. This is passed as-is to the\n",
        "                :meth:`motornet.plants.plants.Plant.get_initial_state` method, and therefore obeys the structure\n",
        "                documented there.\n",
        "            batch_size: `Integer`, the batch size defining the size of each state's first dimension.\n",
        "            dtype: A `dtype` from the `tensorflow.dtypes` module.\n",
        "        Returns:\n",
        "            A `list` of the states as `tensor` arrays in the order listed above.\n",
        "        \"\"\"\n",
        "\n",
        "        if joint_state is not None:\n",
        "            states = self.plant.get_initial_state(joint_state=joint_state, batch_size=batch_size)\n",
        "        else:\n",
        "            states = self.plant.get_initial_state(batch_size=batch_size)\n",
        "        \n",
        "        proprio_true = self._get_new_proprio_feedback(states[2])\n",
        "        visual_true = self._get_new_visual_feedback(states[1])\n",
        "        target_true = self.targets[:, self.curr_timestep, :2]\n",
        "\n",
        "        proprio_tiled = self.tile_feedback((proprio_true, self.proprioceptive_delay))\n",
        "        visual_tiled = self.tile_feedback((visual_true, self.visual_delay))\n",
        "        visual_target_tiled = self.tile_feedback((target_true, arm210.visual_delay))\n",
        "        \n",
        "        proprio_noisy = self.add_noise((proprio_tiled, self.proprioceptive_noise_sd))\n",
        "        visual_noisy = self.add_noise((visual_tiled, self.visual_noise_sd))\n",
        "        target_noisy = self.add_noise((visual_target_tiled, self.visual_noise_sd))\n",
        "\n",
        "        init_action = tf.zeros((batch_size, self.plant.n_muscles))\n",
        "\n",
        "        states.append(proprio_noisy)\n",
        "        states.append(visual_noisy)\n",
        "        states.append(target_noisy)\n",
        "        states.append(init_action)\n",
        "\n",
        "        return states\n",
        "\n",
        "    def _get_new_proprio_feedback(self, mstate):\n",
        "        # normalise by muscle characteristics\n",
        "        muscle_len = tf.slice(mstate, [0, 1, 0], [-1, 1, -1]) / self.plant.muscle.l0_ce\n",
        "        muscle_vel = tf.slice(mstate, [0, 2, 0], [-1, 1, -1]) / self.plant.muscle.vmax\n",
        "        # flatten muscle length and velocity\n",
        "        proprio_true = tf.reshape(tf.concat([muscle_len, muscle_vel], axis=1), shape=(-1, self.plant.n_muscles * 2))\n",
        "        return proprio_true\n",
        "\n",
        "    def _get_new_visual_feedback(self, cstate):\n",
        "        visual_true, _ = tf.split(cstate, 2, axis=-1) # position only (discard velocity)\n",
        "        return visual_true\n",
        "\n",
        "    def _get_joint_angs(self, jstate):\n",
        "        joint_angs, _ = tf.split(jstate, 2, axis=-1) # angles only (discard velocity)\n",
        "        return joint_angs\n",
        "\n",
        "    def _get_joint_vels(self, jstate):\n",
        "        _, joint_vels = tf.split(jstate, 2, axis=-1) # velocity only (discard angles)\n",
        "        return joint_vels\n",
        "\n",
        "    def action_spec(self):\n",
        "        return self._action_spec\n",
        "\n",
        "    def observation_spec(self):\n",
        "        return self._observation_spec\n",
        "\n",
        "    def _reset(self):\n",
        "        self.curr_timestep = 0\n",
        "        initial_states = self.get_base_initial_state(batch_size=self.batch_sz, joint_state=self.init_joint_state)\n",
        "        self.states = initial_states\n",
        "\n",
        "        old_proprio_feedback, old_visual_feedback, old_target_feedback, old_action = \\\n",
        "            self.unpack_feedback_states(self.states)\n",
        "        proprio_fb = self.get_feedback_current(old_proprio_feedback)\n",
        "        visual_fb = self.get_feedback_current(old_visual_feedback)\n",
        "        target_fb = self.get_feedback_current(old_target_feedback)\n",
        "        \n",
        "        self.feedback_state = tf.concat([tf.reshape(proprio_fb, -1), tf.reshape(visual_fb, -1),  tf.reshape(target_fb, -1), tf.reshape(old_action, -1)], 0).numpy()\n",
        "        \n",
        "        self._episode_ended = False\n",
        "        self._state = self.feedback_state\n",
        "        return ts.restart(self._state)\n",
        "\n",
        "    # todo: for faster training, setup backprop from reward to action here for the actor network\n",
        "    def _step(self, action):\n",
        "        \n",
        "        if self._episode_ended:\n",
        "            # last action ended the episode. ignore the current action and start\n",
        "            # a new episode\n",
        "            return self.reset()\n",
        "\n",
        "        # handle feedback\n",
        "        old_proprio_feedback, old_visual_feedback, old_target_feedback, old_action = \\\n",
        "            self.unpack_feedback_states(self.states)\n",
        "        proprio_backlog = self.get_feedback_backlog(old_proprio_feedback)\n",
        "        visual_backlog = self.get_feedback_backlog(old_visual_feedback)\n",
        "        target_backlog = self.get_feedback_backlog(old_target_feedback)\n",
        "        proprio_fb = self.get_feedback_current(old_proprio_feedback)\n",
        "        visual_fb = self.get_feedback_current(old_visual_feedback)\n",
        "        target_fb = self.get_feedback_current(old_target_feedback)\n",
        "\n",
        "        u = tf.expand_dims(action, axis=0)\n",
        "\n",
        "        # plant forward pass\n",
        "        jstate, cstate, mstate, gstate = self.unpack_plant_states(self.states)\n",
        "        for _ in range(self.n_ministeps):\n",
        "            jstate, cstate, mstate, gstate = self.plant(u, jstate, mstate, gstate, **self.inputs)\n",
        "\n",
        "        proprio_true = self._get_new_proprio_feedback(mstate)\n",
        "        visual_true = self._get_new_visual_feedback(cstate)\n",
        "        target_true = self.targets[:, self.curr_timestep, :2]\n",
        "        \n",
        "        proprio_noisy = self.add_noise((proprio_true, self.proprioceptive_noise_sd))\n",
        "        visual_noisy = self.add_noise((visual_true, self.visual_noise_sd))\n",
        "        target_noisy = self.add_noise((target_true, self.visual_noise_sd))\n",
        "        \n",
        "        new_proprio_feedback = self.lambda_cat2((proprio_backlog, proprio_noisy[:, :, tf.newaxis]))\n",
        "        new_visual_feedback = self.lambda_cat2((visual_backlog, visual_noisy[:, :, tf.newaxis]))\n",
        "        new_target_feedback = self.lambda_cat2((target_backlog, target_noisy[:, :, tf.newaxis]))\n",
        "\n",
        "        # pack new states\n",
        "        self.state = [jstate, cstate, mstate, gstate, new_proprio_feedback, new_visual_feedback, new_target_feedback]\n",
        "        self.feedback_state = tf.concat([tf.reshape(proprio_fb, -1), tf.reshape(visual_fb, -1),  tf.reshape(target_fb, -1), tf.reshape(u, -1)], 0).numpy() # output sent to the actor (self, target, and action)\n",
        "        self._state = self.feedback_state\n",
        "\n",
        "        # todo: might be need to redo this based on batch size = 1\n",
        "        # calculate reward (batch avg)\n",
        "        # reward factors:\n",
        "        # - position\n",
        "        # - joint limits\n",
        "        # - muscle state\n",
        "        # - muscle velocity\n",
        "        # - excitation difference (penalize oscillating state-actions transitions)\n",
        "        activation = tf.slice(mstate, [0, 0, 0], [-1, 1, -1])\n",
        "        activation_scaled = self._scale_activation(activation, arm210.muscle.max_iso_force)\n",
        "        muscle_activation_loss = tf.reduce_mean(activation_scaled ** 2)\n",
        "        muscle_velocity_loss = tf.reduce_mean(tf.slice(mstate, [0, 2, 0], [-1, 1, -1]) ** 2)\n",
        "        deriv_action_cost = tf.reduce_mean(tf.abs(old_action - action))\n",
        "        # print(self.goal_joint_states )\n",
        "        # print(self._get_joint_angs(jstate))\n",
        "        position_loss = tf.reduce_mean(tf.abs(self.goal_joint_states - self._get_joint_angs(jstate)))\n",
        "        joint_vels = self._get_joint_vels(jstate)\n",
        "        joint_limit_cost = tf.size(joint_vels, out_type=tf.dtypes.float32) - tf.math.count_nonzero(joint_vels, dtype=tf.dtypes.float32)\n",
        "        reward = - self.jpos_weight * (position_loss + joint_limit_cost) - self.mact_weight * muscle_activation_loss \\\n",
        "            - self.mvel_weight * muscle_velocity_loss - self.deriv_weight * deriv_action_cost\n",
        "\n",
        "        # increment internal timestep\n",
        "        self.curr_timestep = self.curr_timestep + 1\n",
        "\n",
        "        # print(self.curr_timestep)\n",
        "        self._episode_ended = True if self.curr_timestep >= self.n_timesteps else False\n",
        "\n",
        "        if self._episode_ended:\n",
        "            return ts.termination(self.feedback_state, reward)\n",
        "        else:\n",
        "            return ts.transition(\n",
        "                self.feedback_state, reward=reward, discount=self.discount)\n",
        "\n",
        "    def _scale_activation(self, activation, max_iso_force):\n",
        "        \"\"\"Scale activation penalty by maximum muscle force of each muscle.\"\"\"\n",
        "        max_iso_force_n = max_iso_force / tf.reduce_mean(max_iso_force)\n",
        "        return activation * max_iso_force_n\n",
        "\n",
        "    def time_step_spec(self):\n",
        "      return self._time_step_spec\n"
      ]
    },
    {
      "cell_type": "code",
      "execution_count": null,
      "metadata": {
        "id": "J358IF0uDcxP"
      },
      "outputs": [],
      "source": [
        "collect_env = Arm210(arm210)\n",
        "eval_env = Arm210(arm210)"
      ]
    },
    {
      "cell_type": "markdown",
      "metadata": {
        "id": "sXr9QFV3C2Io"
      },
      "source": [
        "## Distribution Strategy\n",
        "We use the DistributionStrategy API to enable running the train step computation across multiple devices such as multiple GPUs or TPUs using data parallelism. The train step:\n",
        "* Receives a batch of training data\n",
        "* Splits it across the devices\n",
        "* Computes the forward step\n",
        "* Aggregates and computes the MEAN of the loss\n",
        "* Computes the backward step and performs a gradient variable update\n",
        "\n",
        "With TF-Agents Learner API and DistributionStrategy API it is quite easy to switch between running the train step on GPUs (using MirroredStrategy) to TPUs (using TPUStrategy) without changing any of the training logic below."
      ]
    },
    {
      "cell_type": "markdown",
      "metadata": {
        "id": "oiDyI_p8C4XG"
      },
      "source": [
        "### Enabling the GPU\n",
        "If you want to try running on a GPU, you'll first need to enable GPUs for the notebook:\n",
        "\n",
        "* Navigate to Edit→Notebook Settings\n",
        "* Select GPU from the Hardware Accelerator drop-down"
      ]
    },
    {
      "cell_type": "markdown",
      "metadata": {
        "id": "-ZuZqrxIC6ZN"
      },
      "source": [
        "### Picking a strategy\n",
        "Use `strategy_utils` to generate a strategy. Under the hood, passing the parameter:\n",
        "* `use_gpu = False` returns `tf.distribute.get_strategy()`, which uses CPU\n",
        "* `use_gpu = True` returns `tf.distribute.MirroredStrategy()`, which uses all GPUs that are visible to TensorFlow on one machine"
      ]
    },
    {
      "cell_type": "code",
      "execution_count": null,
      "metadata": {
        "id": "oNdaZk5AC2tg",
        "outputId": "a55287a0-dc90-4ce4-cb42-c7f8daae4178"
      },
      "outputs": [
        {
          "name": "stdout",
          "output_type": "stream",
          "text": [
            "WARNING:tensorflow:There are non-GPU devices in `tf.distribute.Strategy`, not using nccl allreduce.\n"
          ]
        },
        {
          "name": "stderr",
          "output_type": "stream",
          "text": [
            "WARNING:tensorflow:There are non-GPU devices in `tf.distribute.Strategy`, not using nccl allreduce.\n"
          ]
        },
        {
          "name": "stdout",
          "output_type": "stream",
          "text": [
            "INFO:tensorflow:Using MirroredStrategy with devices ('/job:localhost/replica:0/task:0/device:CPU:0',)\n"
          ]
        },
        {
          "name": "stderr",
          "output_type": "stream",
          "text": [
            "INFO:tensorflow:Using MirroredStrategy with devices ('/job:localhost/replica:0/task:0/device:CPU:0',)\n"
          ]
        }
      ],
      "source": [
        "use_gpu = True #@param {type:\"boolean\"}\n",
        "\n",
        "strategy = strategy_utils.get_strategy(tpu=False, use_gpu=use_gpu)"
      ]
    },
    {
      "cell_type": "markdown",
      "metadata": {
        "id": "tDRzRK23DBDw"
      },
      "source": [
        "All variables and Agents need to be created under `strategy.scope()`, as you'll see below."
      ]
    },
    {
      "cell_type": "markdown",
      "metadata": {
        "id": "3vkCl9qF-_nK"
      },
      "source": [
        "## Agent\n",
        "\n",
        "To create an SAC Agent, we first need to create the networks that it will train. SAC is an actor-critic agent, so we will need two networks.\n",
        "\n",
        "The critic will give us value estimates for `Q(s,a)`. That is, it will recieve as input an observation and an action, and it will give us an estimate of how good that action was for the given state.\n"
      ]
    },
    {
      "cell_type": "code",
      "execution_count": null,
      "metadata": {
        "id": "F5EzNZCL_B9I"
      },
      "outputs": [],
      "source": [
        "observation_spec, action_spec, time_step_spec = (\n",
        "      spec_utils.get_tensor_specs(collect_env))\n",
        "\n",
        "with strategy.scope():\n",
        "  critic_net = critic_network.CriticNetwork(\n",
        "        (observation_spec, action_spec),\n",
        "        observation_fc_layer_params=None,\n",
        "        action_fc_layer_params=None,\n",
        "        joint_fc_layer_params=critic_joint_fc_layer_params,\n",
        "        kernel_initializer='glorot_uniform',\n",
        "        last_kernel_initializer='glorot_uniform')"
      ]
    },
    {
      "cell_type": "markdown",
      "metadata": {
        "id": "3xdiXxQO_LVI"
      },
      "source": [
        "We will use this critic to train an `actor` network which will allow us to generate actions given an observation.\n",
        "\n",
        "The `ActorNetwork` will predict parameters for a tanh-squashed [MultivariateNormalDiag](https://www.tensorflow.org/probability/api_docs/python/tfp/distributions/MultivariateNormalDiag) distribution. This distribution will then be sampled, conditioned on the current observation, whenever we need to generate actions."
      ]
    },
    {
      "cell_type": "code",
      "execution_count": null,
      "metadata": {
        "id": "DKl6ly-D_MXQ"
      },
      "outputs": [],
      "source": [
        "with strategy.scope():\n",
        "  actor_net = actor_distribution_network.ActorDistributionNetwork(\n",
        "      observation_spec,\n",
        "      action_spec,\n",
        "      fc_layer_params=actor_fc_layer_params,\n",
        "      continuous_projection_net=(\n",
        "          tanh_normal_projection_network.TanhNormalProjectionNetwork))"
      ]
    },
    {
      "cell_type": "markdown",
      "metadata": {
        "id": "-_HBs0gK_Oh6"
      },
      "source": [
        "With these networks at hand we can now instantiate the agent.\n"
      ]
    },
    {
      "cell_type": "code",
      "execution_count": null,
      "metadata": {
        "id": "nC7cASxR_UZT"
      },
      "outputs": [],
      "source": [
        "with strategy.scope():\n",
        "  train_step = train_utils.create_train_step()\n",
        "\n",
        "  tf_agent = sac_agent.SacAgent(\n",
        "        time_step_spec,\n",
        "        action_spec,\n",
        "        actor_network=actor_net,\n",
        "        critic_network=critic_net,\n",
        "        actor_optimizer=tf.keras.optimizers.Adam(\n",
        "            learning_rate=actor_learning_rate),\n",
        "        critic_optimizer=tf.keras.optimizers.Adam(\n",
        "            learning_rate=critic_learning_rate),\n",
        "        alpha_optimizer=tf.keras.optimizers.Adam(\n",
        "            learning_rate=alpha_learning_rate),\n",
        "        target_update_tau=target_update_tau,\n",
        "        target_update_period=target_update_period,\n",
        "        td_errors_loss_fn=tf.math.squared_difference,\n",
        "        gamma=gamma,\n",
        "        reward_scale_factor=reward_scale_factor,\n",
        "        train_step_counter=train_step)\n",
        "\n",
        "  tf_agent.initialize()"
      ]
    },
    {
      "cell_type": "markdown",
      "metadata": {
        "id": "NnzdFhFW_WRR"
      },
      "source": [
        "## Replay Buffer\n",
        "\n",
        "In order to keep track of the data collected from the environment, we will use [Reverb](https://deepmind.com/research/open-source/Reverb), an efficient, extensible, and easy-to-use replay system by Deepmind. It stores experience data collected by the Actors and consumed by the Learner during training.\n",
        "\n",
        "Here, this is less important than `max_size` -- but in a distributed setting with async collection and training, you will probably want to experiment with `rate_limiters.SampleToInsertRatio`, using a samples_per_insert somewhere between 2 and 1000. For example:\n",
        "```\n",
        "rate_limiter=reverb.rate_limiters.SampleToInsertRatio(samples_per_insert=3.0, min_size_to_sample=3, error_buffer=3.0)\n",
        "```\n",
        "\n",
        "\n"
      ]
    },
    {
      "cell_type": "code",
      "execution_count": null,
      "metadata": {
        "id": "5F7YOEXB_bh_",
        "outputId": "e0b754fe-e77b-45dd-98e9-b15c5a0c6ca7"
      },
      "outputs": [
        {
          "name": "stderr",
          "output_type": "stream",
          "text": [
            "[reverb/cc/platform/tfrecord_checkpointer.cc:162]  Initializing TFRecordCheckpointer in /tmp/tmpuq_6fyqy.\n",
            "[reverb/cc/platform/tfrecord_checkpointer.cc:567] Loading latest checkpoint from /tmp/tmpuq_6fyqy\n",
            "[reverb/cc/platform/default/server.cc:71] Started replay server on port 32907\n"
          ]
        }
      ],
      "source": [
        "table_name = 'uniform_table'\n",
        "table = reverb.Table(\n",
        "    table_name,\n",
        "    max_size=replay_buffer_capacity,\n",
        "    sampler=reverb.selectors.Uniform(),\n",
        "    remover=reverb.selectors.Fifo(),\n",
        "    rate_limiter=reverb.rate_limiters.MinSize(1))\n",
        "\n",
        "reverb_server = reverb.Server([table])"
      ]
    },
    {
      "cell_type": "markdown",
      "metadata": {
        "id": "y_07XsKE_cCB"
      },
      "source": [
        "The replay buffer is constructed using specs describing the tensors that are to be stored, which can be obtained from the agent using `tf_agent.collect_data_spec`.\n",
        "\n",
        "Since the SAC Agent needs both the current and next observation to compute the loss, we set `sequence_length=2`."
      ]
    },
    {
      "cell_type": "code",
      "execution_count": null,
      "metadata": {
        "id": "lpSsb1DJ_dxT"
      },
      "outputs": [],
      "source": [
        "reverb_replay = reverb_replay_buffer.ReverbReplayBuffer(\n",
        "    tf_agent.collect_data_spec,\n",
        "    sequence_length=2,\n",
        "    table_name=table_name,\n",
        "    local_server=reverb_server)"
      ]
    },
    {
      "cell_type": "markdown",
      "metadata": {
        "id": "bVu-3-Z-_hZE"
      },
      "source": [
        "Now we generate a TensorFlow dataset from the Reverb replay buffer. We will pass this to the Learner to sample experiences for training."
      ]
    },
    {
      "cell_type": "code",
      "execution_count": null,
      "metadata": {
        "id": "-AywbdCX_h8g",
        "outputId": "8061b9ba-1a26-4680-92d9-443a4337db53"
      },
      "outputs": [
        {
          "name": "stderr",
          "output_type": "stream",
          "text": [
            "[reverb/cc/platform/default/server.cc:84] Shutting down replay server\n"
          ]
        }
      ],
      "source": [
        "dataset = reverb_replay.as_dataset(\n",
        "      sample_batch_size=batch_size, num_steps=2).prefetch(50)\n",
        "experience_dataset_fn = lambda: dataset"
      ]
    },
    {
      "cell_type": "markdown",
      "metadata": {
        "id": "v_OZzQhs_m-9"
      },
      "source": [
        "## Policies\n",
        "\n",
        "In TF-Agents, policies represent the standard notion of policies in RL: given a `time_step` produce an action or a distribution over actions. The main method is `policy_step = policy.step(time_step)` where `policy_step` is a named tuple `PolicyStep(action, state, info)`.  The `policy_step.action` is the `action` to be applied to the environment, `state` represents the state for stateful (RNN) policies and `info` may contain auxiliary information such as log probabilities of the actions.\n",
        "\n",
        "Agents contain two policies:\n",
        "\n",
        "-   `agent.policy` — The main policy that is used for evaluation and deployment.\n",
        "-   `agent.collect_policy` — A second policy that is used for data collection."
      ]
    },
    {
      "cell_type": "code",
      "execution_count": null,
      "metadata": {
        "id": "pRsLq-Yn_nUZ"
      },
      "outputs": [],
      "source": [
        "tf_eval_policy = tf_agent.policy\n",
        "eval_policy = py_tf_eager_policy.PyTFEagerPolicy(\n",
        "  tf_eval_policy, use_tf_function=True)"
      ]
    },
    {
      "cell_type": "code",
      "execution_count": null,
      "metadata": {
        "id": "jeofICrk_qDQ"
      },
      "outputs": [],
      "source": [
        "tf_collect_policy = tf_agent.collect_policy\n",
        "collect_policy = py_tf_eager_policy.PyTFEagerPolicy(\n",
        "  tf_collect_policy, use_tf_function=True)"
      ]
    },
    {
      "cell_type": "markdown",
      "metadata": {
        "id": "H4NLAjui_o5F"
      },
      "source": [
        "Policies can be created independently of agents. For example, use `tf_agents.policies.random_py_policy` to create a policy which will randomly select an action for each time_step."
      ]
    },
    {
      "cell_type": "code",
      "execution_count": null,
      "metadata": {
        "id": "MU9ze5Y0_sPn"
      },
      "outputs": [],
      "source": [
        "random_policy = random_py_policy.RandomPyPolicy(\n",
        "  collect_env.time_step_spec(), collect_env.action_spec())"
      ]
    },
    {
      "cell_type": "markdown",
      "metadata": {
        "id": "uuIRyX9W_thR"
      },
      "source": [
        "## Actors\n",
        "The actor manages interactions between a policy and an environment.\n",
        "  * The Actor components contain an instance of the environment (as `py_environment`) and a copy of the policy variables.\n",
        "  * Each Actor worker runs a sequence of data collection steps given the local values of the policy variables.\n",
        "  * Variable updates are done explicitly using the variable container client instance in the training script before calling `actor.run()`.\n",
        "  * The observed experience is written into the replay buffer in each data collection step."
      ]
    },
    {
      "cell_type": "markdown",
      "metadata": {
        "id": "DxLo5E_G_ysi"
      },
      "source": [
        "As the Actors run data collection steps, they pass trajectories of (state, action, reward) to the observer, which caches and writes them to the Reverb replay system. \n",
        "\n",
        "We're storing trajectories for frames [(t0,t1) (t1,t2) (t2,t3), ...] because `stride_length=1`."
      ]
    },
    {
      "cell_type": "code",
      "execution_count": null,
      "metadata": {
        "id": "SqBS6oiN_zNv"
      },
      "outputs": [],
      "source": [
        "rb_observer = reverb_utils.ReverbAddTrajectoryObserver(\n",
        "  reverb_replay.py_client,\n",
        "  table_name,\n",
        "  sequence_length=2,\n",
        "  stride_length=1)"
      ]
    },
    {
      "cell_type": "markdown",
      "metadata": {
        "id": "eEIh8l1D_5ZG"
      },
      "source": [
        "We create an Actor with the random policy and collect experiences to seed the replay buffer with."
      ]
    },
    {
      "cell_type": "code",
      "execution_count": null,
      "metadata": {
        "id": "9PvRdhCX_7_o"
      },
      "outputs": [],
      "source": [
        "# custom networks: https://www.tensorflow.org/agents/tutorials/8_networks_tutorial#custom_networks\n",
        "initial_collect_actor = actor.Actor(\n",
        "  collect_env,\n",
        "  random_policy,\n",
        "  train_step,\n",
        "  steps_per_run=initial_collect_steps,\n",
        "  observers=[rb_observer])\n",
        "initial_collect_actor.run()"
      ]
    },
    {
      "cell_type": "markdown",
      "metadata": {
        "id": "QWQwISKp_68B"
      },
      "source": [
        "Instantiate an Actor with the collect policy to gather more experiences during training."
      ]
    },
    {
      "cell_type": "code",
      "execution_count": null,
      "metadata": {
        "id": "OQjdkOyg_-Ew"
      },
      "outputs": [],
      "source": [
        "env_step_metric = py_metrics.EnvironmentSteps()\n",
        "collect_actor = actor.Actor(\n",
        "  collect_env,\n",
        "  collect_policy,\n",
        "  train_step,\n",
        "  steps_per_run=1,\n",
        "  metrics=actor.collect_metrics(10),\n",
        "  summary_dir=os.path.join(tempdir, learner.TRAIN_DIR),\n",
        "  observers=[rb_observer, env_step_metric])"
      ]
    },
    {
      "cell_type": "markdown",
      "metadata": {
        "id": "1bABot2eAAe4"
      },
      "source": [
        "Create an Actor which will be used to evaluate the policy during training. We pass in `actor.eval_metrics(num_eval_episodes)` to log metrics later."
      ]
    },
    {
      "cell_type": "code",
      "execution_count": null,
      "metadata": {
        "id": "lXZbCqTjABHK"
      },
      "outputs": [],
      "source": [
        "eval_actor = actor.Actor(\n",
        "  eval_env,\n",
        "  eval_policy,\n",
        "  train_step,\n",
        "  episodes_per_run=num_eval_episodes,\n",
        "  metrics=actor.eval_metrics(num_eval_episodes),\n",
        "  summary_dir=os.path.join(tempdir, 'eval'),\n",
        ")"
      ]
    },
    {
      "cell_type": "markdown",
      "metadata": {
        "id": "eNvvwyvlACjE"
      },
      "source": [
        "## Learners\n",
        "The Learner component contains the agent and performs gradient step updates to the policy variables using experience data from the replay buffer. After one or more training steps, the Learner can push a new set of variable values to the variable container."
      ]
    },
    {
      "cell_type": "code",
      "execution_count": null,
      "metadata": {
        "colab": {
          "base_uri": "https://localhost:8080/"
        },
        "id": "hyvL3hakAEUL",
        "outputId": "62bad314-60ef-4895-d37d-08a540445e23"
      },
      "outputs": [
        {
          "name": "stderr",
          "output_type": "stream",
          "text": [
            "WARNING:absl:WARNING: Could not serialize policy.distribution() for policy \"<tf_agents.policies.actor_policy.ActorPolicy object at 0x7f1dd77b0610>\". Calling saved_model.distribution() will raise the following assertion error: missing a required argument: 'distribution'\n",
            "WARNING:absl:WARNING: Could not serialize policy.distribution() for policy \"<tf_agents.policies.actor_policy.ActorPolicy object at 0x7f1dd77b0610>\". Calling saved_model.distribution() will raise the following assertion error: missing a required argument: 'distribution'\n",
            "2023-04-19 02:25:25.011933: W tensorflow/core/framework/dataset.cc:807] Input of GeneratorDatasetOp::Dataset will not be optimized because the dataset does not implement the AsGraphDefInternal() method needed to apply optimizations.\n",
            "2023-04-19 02:25:25.012412: I tensorflow/core/common_runtime/executor.cc:1197] [/device:CPU:0] (DEBUG INFO) Executor start aborting (this does not indicate an error and you can ignore this message): INVALID_ARGUMENT: You must feed a value for placeholder tensor 'Placeholder/_0' with dtype variant\n",
            "\t [[{{node Placeholder/_0}}]]\n"
          ]
        }
      ],
      "source": [
        "saved_model_dir = os.path.join(tempdir, learner.POLICY_SAVED_MODEL_DIR)\n",
        "\n",
        "# Triggers to save the agent's policy checkpoints.\n",
        "learning_triggers = [\n",
        "    triggers.PolicySavedModelTrigger(\n",
        "        saved_model_dir,\n",
        "        tf_agent,\n",
        "        train_step,\n",
        "        interval=policy_save_interval),\n",
        "    triggers.StepPerSecondLogTrigger(train_step, interval=1000),\n",
        "]\n",
        "\n",
        "agent_learner = learner.Learner(\n",
        "  tempdir,\n",
        "  train_step,\n",
        "  tf_agent,\n",
        "  experience_dataset_fn,\n",
        "  triggers=learning_triggers,\n",
        "  strategy=strategy)"
      ]
    },
    {
      "cell_type": "markdown",
      "metadata": {
        "id": "ahMWFMTvAEAG"
      },
      "source": [
        "## Metrics and Evaluation\n",
        "\n",
        "We instantiated the eval Actor with `actor.eval_metrics` above, which creates most commonly used metrics during policy evaluation:\n",
        "* Average return. The return is the sum of rewards obtained while running a policy in an environment for an episode, and we usually average this over a few episodes.\n",
        "* Average episode length.\n",
        "\n",
        "We run the Actor to generate these metrics."
      ]
    },
    {
      "cell_type": "code",
      "execution_count": null,
      "metadata": {
        "id": "Llne4rIdAJeg"
      },
      "outputs": [],
      "source": [
        "def get_eval_metrics():\n",
        "  eval_actor.run()\n",
        "  results = {}\n",
        "  for metric in eval_actor.metrics:\n",
        "    results[metric.name] = metric.result()\n",
        "  return results\n",
        "\n",
        "metrics = get_eval_metrics()"
      ]
    },
    {
      "cell_type": "code",
      "execution_count": null,
      "metadata": {
        "colab": {
          "base_uri": "https://localhost:8080/"
        },
        "id": "IPrJlSJSAK6O",
        "outputId": "e8fb7d29-7c3f-4ce0-f304-5a894324f66d"
      },
      "outputs": [
        {
          "name": "stdout",
          "output_type": "stream",
          "text": [
            "step = 0: AverageReturn = -39736.835938, AverageEpisodeLength = 50.000000\n"
          ]
        }
      ],
      "source": [
        "def log_eval_metrics(step, metrics):\n",
        "  eval_results = (', ').join(\n",
        "      '{} = {:.6f}'.format(name, result) for name, result in metrics.items())\n",
        "  print('step = {0}: {1}'.format(step, eval_results))\n",
        "\n",
        "log_eval_metrics(0, metrics)"
      ]
    },
    {
      "cell_type": "markdown",
      "metadata": {
        "id": "IM6KKk38APcA"
      },
      "source": [
        "## Training the agent\n",
        "\n",
        "The training loop involves both collecting data from the environment and optimizing the agent's networks. Along the way, we will occasionally evaluate the agent's policy to see how we are doing."
      ]
    },
    {
      "cell_type": "code",
      "execution_count": null,
      "metadata": {
        "id": "3ZZoahR9AOe-"
      },
      "outputs": [],
      "source": [
        "try:\n",
        "  %%time\n",
        "except:\n",
        "  pass\n",
        "\n",
        "# Reset the train step\n",
        "tf_agent.train_step_counter.assign(0)\n",
        "\n",
        "# Evaluate the agent's policy once before training.\n",
        "avg_return = get_eval_metrics()[\"AverageReturn\"]\n",
        "returns = [avg_return]\n",
        "\n",
        "for _ in tqdm(range(num_iterations)):\n",
        "  # Training.\n",
        "  collect_actor.run()\n",
        "  loss_info = agent_learner.run(iterations=1)\n",
        "\n",
        "  # Evaluating.\n",
        "  step = agent_learner.train_step_numpy\n",
        "\n",
        "  if eval_interval and step % eval_interval == 0:\n",
        "    metrics = get_eval_metrics()\n",
        "    log_eval_metrics(step, metrics)\n",
        "    returns.append(metrics[\"AverageReturn\"])\n",
        "\n",
        "  if log_interval and step % log_interval == 0:\n",
        "    print('step = {0}: loss = {1}'.format(step, loss_info.loss.numpy()))\n",
        "\n",
        "rb_observer.close()\n",
        "reverb_server.stop()"
      ]
    },
    {
      "cell_type": "code",
      "execution_count": null,
      "metadata": {
        "id": "PMtWEDhFyG7r",
        "outputId": "e805cf27-74be-42dc-e440-df05387601dd"
      },
      "outputs": [
        {
          "data": {
            "image/png": "[encoded data removed]",
            "text/plain": [
              "<Figure size 640x480 with 1 Axes>"
            ]
          },
          "metadata": {},
          "output_type": "display_data"
        }
      ],
      "source": [
        "steps = range(0, num_iterations + 1, eval_interval)\n",
        "plt.plot(steps, returns)\n",
        "plt.ylabel('Average Return')\n",
        "plt.xlabel('Episode')\n",
        "plt.ylim()\n",
        "plt.savefig(\"sac_learning_curve.svg\", bbox_inches='tight')"
      ]
    },
    {
      "cell_type": "code",
      "execution_count": null,
      "metadata": {
        "id": "_JtscMHBflcM",
        "outputId": "f7266361-cd47-400d-b82f-43dc171cfa33"
      },
      "outputs": [
        {
          "data": {
            "text/plain": [
              "-249.65118"
            ]
          },
          "execution_count": 87,
          "metadata": {},
          "output_type": "execute_result"
        }
      ],
      "source": [
        "max(returns)"
      ]
    },
    {
      "cell_type": "code",
      "execution_count": null,
      "metadata": {
        "id": "hKBlGl-ZvJIi",
        "outputId": "4fa96f6d-dfa7-4a89-d806-c21e99c698ae"
      },
      "outputs": [
        {
          "data": {
            "image/png": "[encoded data removed]",
            "text/plain": [
              "<Figure size 640x480 with 1 Axes>"
            ]
          },
          "metadata": {},
          "output_type": "display_data"
        }
      ],
      "source": [
        "data = np.array(returns)\n",
        "cumsum_data = np.cumsum(data)\n",
        "returns_vec = (cumsum_data[15:] - cumsum_data[:-15]) / 15 # moving average\n",
        "steps = range(0, len(returns_vec), eval_interval)\n",
        "plt.plot(range(0, num_iterations + 1, eval_interval), returns)\n",
        "plt.plot(steps, returns_vec)\n",
        "plt.ylabel('Average Return')\n",
        "plt.xlabel('Episode')\n",
        "plt.ylim()\n",
        "plt.legend(['Raw', 'Smoothed'])\n",
        "plt.axhline(y=max(returns), color='r', linestyle='--')\n",
        "plt.text(2000, max(returns) + 500, s=str(max(returns)), c='r')\n",
        "plt.savefig(\"sac_learning_curve.svg\", bbox_inches='tight')"
      ]
    },
    {
      "cell_type": "code",
      "execution_count": null,
      "metadata": {
        "id": "Nm3FpytZflcN",
        "outputId": "44e541d2-daa4-4092-ab00-91ebb8879241"
      },
      "outputs": [
        {
          "data": {
            "text/plain": [
              "-1255.0"
            ]
          },
          "execution_count": 96,
          "metadata": {},
          "output_type": "execute_result"
        }
      ],
      "source": [
        "max(returns_vec)"
      ]
    }
  ],
  "metadata": {
    "accelerator": "GPU",
    "colab": {
      "provenance": [],
      "include_colab_link": true
    },
    "gpuClass": "standard",
    "kernelspec": {
      "display_name": "Python 3",
      "name": "python3"
    },
    "language_info": {
      "codemirror_mode": {
        "name": "ipython",
        "version": 3
      },
      "file_extension": ".py",
      "mimetype": "text/x-python",
      "name": "python",
      "nbconvert_exporter": "python",
      "pygments_lexer": "ipython3",
      "version": "3.9.16"
    }
  },
  "nbformat": 4,
  "nbformat_minor": 0
}